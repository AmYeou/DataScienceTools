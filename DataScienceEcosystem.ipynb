{
 "cells": [
  {
   "cell_type": "markdown",
   "id": "48c31d05",
   "metadata": {},
   "source": [
    "# Data Science Tools and Ecosystem"
   ]
  },
  {
   "attachments": {},
   "cell_type": "markdown",
   "id": "90305166",
   "metadata": {},
   "source": [
    "In this notebook, Data Science Tools and Ecosystem are summarized. "
   ]
  },
  {
   "cell_type": "markdown",
   "id": "d8287ac5",
   "metadata": {},
   "source": [
    "**Objectives**: \n",
    "- List popular languages for Data Science\n",
    "- List popular libraries for Data Science\n",
    "- List popular development environments (tools) used for Data Science \n",
    "- Demonstrate basic arithimetic calculations"
   ]
  },
  {
   "cell_type": "markdown",
   "id": "92af8087",
   "metadata": {},
   "source": [
    "Some of the popular languages that Data Scientists use, are: \n",
    "1. Python\n",
    "2. R\n",
    "3. Java\n",
    "4. Java Script\n",
    "5. Julia\n",
    "6. C++"
   ]
  },
  {
   "cell_type": "markdown",
   "id": "5b8d186a",
   "metadata": {},
   "source": [
    "Some of the commonly used libraies used by Data Scientists include: \n",
    "1. Pandas \n",
    "2. NumPy\n",
    "3. SciPy\n",
    "4. Keras\n",
    "5. Sickitlearn\n",
    "6. PyBrain"
   ]
  },
  {
   "cell_type": "markdown",
   "id": "ac5a3ba5",
   "metadata": {},
   "source": [
    "| Data Science tools|\n",
    "-----------------------------\n",
    "|Jupyter (Notebooks/ Lab) |\n",
    "| Apache Zeppelin|\n",
    "| Spider|\n",
    "\n"
   ]
  },
  {
   "cell_type": "markdown",
   "id": "ecc3da14",
   "metadata": {},
   "source": [
    "### Below are a few examples of evaluating arithmetic expressions in Python"
   ]
  },
  {
   "cell_type": "code",
   "execution_count": 1,
   "id": "3678720e",
   "metadata": {},
   "outputs": [
    {
     "data": {
      "text/plain": [
       "17"
      ]
     },
     "execution_count": 1,
     "metadata": {},
     "output_type": "execute_result"
    }
   ],
   "source": [
    "# This is a simple arithmetic expression to multiply, then ad integers: \n",
    "(3*4)+5"
   ]
  },
  {
   "cell_type": "code",
   "execution_count": 2,
   "id": "5d0bdd5b",
   "metadata": {},
   "outputs": [
    {
     "data": {
      "text/plain": [
       "3.3333333333333335"
      ]
     },
     "execution_count": 2,
     "metadata": {},
     "output_type": "execute_result"
    }
   ],
   "source": [
    "# This will convert 200 minutesto hours by divinding by 60: \n",
    "200/60"
   ]
  },
  {
   "cell_type": "markdown",
   "id": "12456ca2",
   "metadata": {},
   "source": [
    "## Author: \n",
    "I. Daniela Beinarovica "
   ]
  },
  {
   "cell_type": "code",
   "execution_count": null,
   "id": "c886cfd0",
   "metadata": {},
   "outputs": [],
   "source": []
  }
 ],
 "metadata": {
  "kernelspec": {
   "display_name": "Python 3 (ipykernel)",
   "language": "python",
   "name": "python3"
  },
  "language_info": {
   "codemirror_mode": {
    "name": "ipython",
    "version": 3
   },
   "file_extension": ".py",
   "mimetype": "text/x-python",
   "name": "python",
   "nbconvert_exporter": "python",
   "pygments_lexer": "ipython3",
   "version": "3.10.9"
  }
 },
 "nbformat": 4,
 "nbformat_minor": 5
}
